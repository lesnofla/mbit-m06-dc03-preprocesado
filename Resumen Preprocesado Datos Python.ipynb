{
 "cells": [
  {
   "cell_type": "markdown",
   "metadata": {},
   "source": [
    "<img src=\"mbit-logo.png\" align=\"right\" style=\"float\" width=\"55\">\n",
    "<font color=\"#CA3532\"><h1>RESUMEN PRÁCTICA PREPROCESADO DATOS EN PYTHON PARA MACHINE LEARNING (ENTRENAMIENTO/VALIDACIÓN MODELOS)</h1></font>\n",
    "\n",
    "\n",
    "# IMPORTACIÓN DE LIBRERÍAS"
   ]
  },
  {
   "cell_type": "code",
   "execution_count": 1,
   "metadata": {},
   "outputs": [],
   "source": [
    "# Paquetes de manipulación de datos y creación de gráficos:\n",
    "%matplotlib inline\n",
    "import pandas as pd \n",
    "import numpy as np\n",
    "import scipy\n",
    "\n",
    "# Paquetes de visualización:\n",
    "import matplotlib.pyplot as plt\n",
    "import seaborn as sns\n",
    "\n",
    "# Librería de datasets\n",
    "from sklearn import datasets\n",
    "from sklearn.datasets import load_iris\n",
    "\n",
    "# Utilidades de la librería de sklearn necesarias para técnicas de división de muestras (train/val/test):\n",
    "from sklearn.model_selection import train_test_split\n",
    "from sklearn.model_selection import KFold\n",
    "from sklearn.model_selection import RepeatedKFold\n",
    "from sklearn.model_selection import StratifiedKFold\n",
    "from sklearn.model_selection import RepeatedStratifiedKFold\n",
    "from sklearn.model_selection import LeaveOneOut\n",
    "from sklearn.model_selection import LeavePOut\n",
    "from sklearn.model_selection import cross_val_score\n",
    "from sklearn.model_selection import cross_validate\n",
    "\n",
    "# Modelos de aprendizaje automático de la librería sklearn:\n",
    "from sklearn import svm\n",
    "from sklearn.svm import SVC\n",
    "from sklearn import model_selection\n",
    "from sklearn.linear_model import LogisticRegression\n",
    "from sklearn.tree import DecisionTreeClassifier\n",
    "from sklearn.neighbors import KNeighborsClassifier\n",
    "from sklearn.discriminant_analysis import LinearDiscriminantAnalysis\n",
    "from sklearn.naive_bayes import GaussianNB\n",
    "from sklearn.svm import SVC\n",
    "\n",
    "# Métricas:\n",
    "from sklearn.metrics import recall_score\n",
    "from sklearn.metrics import classification_report\n",
    "\n",
    "# Librería de preprocesado:\n",
    "from sklearn import preprocessing\n",
    "\n",
    "# Librería de pipeline:\n",
    "from sklearn.pipeline import make_pipeline\n",
    "\n",
    "# Librerías para ajuste de parámetros:\n",
    "from sklearn.model_selection import GridSearchCV\n",
    "from sklearn.model_selection import RandomizedSearchCV\n",
    "\n",
    "# Gestión de warnings:\n",
    "import warnings\n",
    "warnings.filterwarnings(\"ignore\", category = DeprecationWarning)"
   ]
  },
  {
   "cell_type": "markdown",
   "metadata": {},
   "source": [
    "# IMPORTACIÓN Y PREPARACIÓN DEL CONJUNTO DE DATOS"
   ]
  },
  {
   "cell_type": "code",
   "execution_count": 2,
   "metadata": {},
   "outputs": [],
   "source": [
    "# Importación de fichero CSV, categorizando algunas variables y cambiando las de valor \"yes/no\" a int64 (dicotómicas):\n",
    "df_bank = pd.read_csv('./bank.csv', \n",
    "                      dtype={'job':'category',\n",
    "                             'marital':'category',\n",
    "                             'education':'category',\n",
    "                             'contact':'category',\n",
    "                             'month':'category',\n",
    "                             'poutcome':'category'\n",
    "                            },\n",
    "                      converters = {'default': lambda x: 0 if x == \"no\" else 1,\n",
    "                                    'housing': lambda x: 0 if x == \"no\" else 1,\n",
    "                                    'loan': lambda x: 0 if x == \"no\" else 1,\n",
    "                                    'y': lambda x: 0 if x == \"no\" else 1}\n",
    "                      \n",
    "                     )\n",
    "\n",
    "# Hacemos una copia del dataframe para optimizar código:\n",
    "df_test = df_bank.copy()\n",
    "\n",
    "# Renombramos como TARGET la variable objetivo:\n",
    "df_test = pd.DataFrame(df_test.rename(columns={'y':'TARGET'}))\n"
   ]
  },
  {
   "cell_type": "markdown",
   "metadata": {},
   "source": [
    "### IMPUTACIÓN MISSING VALUES"
   ]
  },
  {
   "cell_type": "code",
   "execution_count": 3,
   "metadata": {},
   "outputs": [],
   "source": [
    "# Imputamos los valores ausentes del dataset con uno de los métodos que incluye el paquete pandas (ffill):\n",
    "df_test.fillna(method = 'ffill', inplace = True)\n"
   ]
  },
  {
   "cell_type": "markdown",
   "metadata": {},
   "source": [
    "### FILTRADO OUTLIERS"
   ]
  },
  {
   "cell_type": "code",
   "execution_count": 4,
   "metadata": {},
   "outputs": [],
   "source": [
    "# Definimos una lista con las variables cuyos outliers queremos filtrar:\n",
    "vars6sigma = ['age', 'balance', 'duration', 'campaign', 'pdays', 'previous']\n",
    "\n",
    "# Filtramos los valores atípicos (outliers) de las variables anteriores mediante el método 6σ:\n",
    "def remove_outliers_six_sigma(X):\n",
    "    return X[abs(X - np.mean(X)) < 3 * np.std(X)]\n",
    "\n",
    "for var in vars6sigma:\n",
    "    df_test = pd.merge(df_test, pd.DataFrame(remove_outliers_six_sigma(df_test[var].values)), \n",
    "                   how = 'left', \n",
    "                   left_index = True, \n",
    "                   right_index = True).rename(columns={0: var + '_6_sigma'})\n",
    "\n",
    "# Eliminamos las variables con outliers para quedarnos únicamente con las filtradas:\n",
    "df_test = df_test.drop(vars6sigma, axis = 1)\n",
    "\n",
    "# Renombramos las variables filtradas quitándoles el sufijo \"_6_sigma\":\n",
    "df_test = pd.DataFrame(df_test.rename(columns={'age_6_sigma':'age',\n",
    "                                               'balance_6_sigma':'balance',\n",
    "                                               'duration_6_sigma':'duration',\n",
    "                                               'campaign_6_sigma':'campaign',\n",
    "                                               'pdays_6_sigma':'pdays',\n",
    "                                               'previous_6_sigma':'previous'}))\n",
    "\n",
    "# Imputamos de nuevo los Missing Values que hayan aparecido con el método ffill de pandas:\n",
    "df_test.fillna(method = 'ffill', inplace = True)\n",
    "\n",
    "# Cambiamos el tipo de esas variables (float64) a tipo integer (int64):\n",
    "for i in vars6sigma:\n",
    "    df_test[i] = df_test[i].astype(np.int64)\n"
   ]
  },
  {
   "cell_type": "markdown",
   "metadata": {},
   "source": [
    "### SELECCIÓN VARIABLES EN FUNCIÓN DE APROXIMACIONES FILTER/WRAPPER"
   ]
  },
  {
   "cell_type": "code",
   "execution_count": 5,
   "metadata": {},
   "outputs": [
    {
     "name": "stdout",
     "output_type": "stream",
     "text": [
      "<class 'pandas.core.frame.DataFrame'>\n",
      "RangeIndex: 4521 entries, 0 to 4520\n",
      "Data columns (total 7 columns):\n",
      " #   Column    Non-Null Count  Dtype\n",
      "---  ------    --------------  -----\n",
      " 0   default   4521 non-null   int64\n",
      " 1   balance   4521 non-null   int64\n",
      " 2   housing   4521 non-null   int64\n",
      " 3   loan      4521 non-null   int64\n",
      " 4   duration  4521 non-null   int64\n",
      " 5   campaign  4521 non-null   int64\n",
      " 6   TARGET    4521 non-null   int64\n",
      "dtypes: int64(7)\n",
      "memory usage: 247.4 KB\n"
     ]
    }
   ],
   "source": [
    "# Reordenamos las columnas de nuestro dataframe para que TARGET sea la última:\n",
    "df_test = df_test[['age','job','marital','education','default','balance','housing','loan','contact','day','month',\n",
    "                   'duration','campaign','pdays','previous','poutcome','TARGET']]\n",
    "\n",
    "# Por último, nos quedamos con las SEIS VARIABLES seleccionadas según el apartado anterior para entrenar el modelo. \n",
    "# NOTA: ver el análisis completo en el notebook de la práctica.\n",
    "df_test = df_test.drop(['age','job','marital','education','contact','day','month','pdays','previous','poutcome'], axis = 1)\n",
    "\n",
    "# YA TENEMOS NUESTRO DATASET PREPARADO:\n",
    "df_test.info()"
   ]
  },
  {
   "cell_type": "markdown",
   "metadata": {},
   "source": [
    "# ENTRENAMIENTO Y VALIDACIÓN\n",
    "\n",
    "### CONSTRUCCIÓN DE DATASETS DE ENTRENAMIENTO Y VALIDACIÓN"
   ]
  },
  {
   "cell_type": "code",
   "execution_count": 6,
   "metadata": {},
   "outputs": [],
   "source": [
    "X = df_test.iloc[:,range(0,6)]\n",
    "Y = df_test.iloc[:,6]"
   ]
  },
  {
   "cell_type": "code",
   "execution_count": 7,
   "metadata": {},
   "outputs": [],
   "source": [
    "X_train, X_test, y_train, y_test = train_test_split(X, Y, test_size = 0.3)"
   ]
  },
  {
   "cell_type": "markdown",
   "metadata": {},
   "source": [
    "### ENTRENAMIENTO Y VALIDACIÓN"
   ]
  },
  {
   "cell_type": "code",
   "execution_count": 8,
   "metadata": {},
   "outputs": [
    {
     "data": {
      "text/plain": [
       "0.887988209285188"
      ]
     },
     "execution_count": 8,
     "metadata": {},
     "output_type": "execute_result"
    }
   ],
   "source": [
    "clf = svm.SVC(gamma = 'auto').fit(X_train, y_train)\n",
    "clf.score(X_test, y_test)"
   ]
  },
  {
   "cell_type": "markdown",
   "metadata": {},
   "source": [
    "### ENTRENAMIENTO CON VALIDACIÓN CRUZADA: 10 iteraciones, métrica por defecto"
   ]
  },
  {
   "cell_type": "code",
   "execution_count": 9,
   "metadata": {},
   "outputs": [
    {
     "data": {
      "text/plain": [
       "array([0.88300221, 0.88495575, 0.88274336, 0.88495575, 0.88716814,\n",
       "       0.88716814, 0.88495575, 0.88716814, 0.88495575, 0.88495575])"
      ]
     },
     "execution_count": 9,
     "metadata": {},
     "output_type": "execute_result"
    }
   ],
   "source": [
    "clf = svm.SVC(gamma = 'auto')\n",
    "\n",
    "scores1 = cross_val_score(clf, X, Y, cv = 10)\n",
    "scores1"
   ]
  },
  {
   "cell_type": "markdown",
   "metadata": {},
   "source": [
    "### ENTRENAMIENTO CON VALIDACIÓN CRUZADA: iterador específico, métrica alternativa"
   ]
  },
  {
   "cell_type": "code",
   "execution_count": 10,
   "metadata": {},
   "outputs": [
    {
     "data": {
      "text/plain": [
       "array([0.88300221, 0.88495575, 0.88274336, 0.88495575, 0.88716814,\n",
       "       0.88716814, 0.88495575, 0.88716814, 0.88495575, 0.88495575])"
      ]
     },
     "execution_count": 10,
     "metadata": {},
     "output_type": "execute_result"
    }
   ],
   "source": [
    "skf = StratifiedKFold(n_splits = 10)\n",
    "\n",
    "scores2 = cross_val_score(clf, X, Y, cv = skf, scoring = 'recall_weighted')\n",
    "scores2"
   ]
  },
  {
   "cell_type": "markdown",
   "metadata": {},
   "source": [
    "### CROSS-VALIDATE CON DOS MÉTRICAS (SIN/CON EVALUACIÓN DEL CONJUNTO DE ENTRENAMIENTO)"
   ]
  },
  {
   "cell_type": "code",
   "execution_count": 11,
   "metadata": {},
   "outputs": [
    {
     "name": "stdout",
     "output_type": "stream",
     "text": [
      "['fit_time', 'score_time', 'test_accuracy', 'test_recall_weighted']\n",
      "\n",
      "[0.88300221 0.88495575 0.88274336 0.88495575 0.88716814 0.88716814\n",
      " 0.88495575 0.88716814 0.88495575 0.88495575]\n"
     ]
    }
   ],
   "source": [
    "# PRIMERO HACEMOS LA VALIDACIÓN CRUZADA CON DOS MÉTRICAS SIN EVALUACIÓN DEL TRAINING SET (return_train_score = false):\n",
    "\n",
    "scoring = ['accuracy', 'recall_weighted']\n",
    "\n",
    "scores3 = cross_validate(clf, X, Y, scoring = scoring, cv = 10, return_train_score = False)\n",
    "\n",
    "print(sorted(scores3.keys()))\n",
    "print('')\n",
    "print(scores3['test_recall_weighted'])"
   ]
  },
  {
   "cell_type": "code",
   "execution_count": 12,
   "metadata": {},
   "outputs": [
    {
     "name": "stdout",
     "output_type": "stream",
     "text": [
      "['fit_time', 'score_time', 'test_accuracy', 'test_recall_weighted', 'train_accuracy', 'train_recall_weighted']\n",
      "\n",
      "[0.88300221 0.88495575 0.88274336 0.88495575 0.88716814 0.88716814\n",
      " 0.88495575 0.88716814 0.88495575 0.88495575]\n"
     ]
    }
   ],
   "source": [
    "# A CONTINUACIÓN HACEMOS LA VALIDACIÓN CRUZADA CON EVALUACIÓN DEL TRAINING SET (return_train_score = true):\n",
    "\n",
    "scores4 = cross_validate(clf, X, Y, scoring = scoring, cv = 10, return_train_score = True)\n",
    "\n",
    "print(sorted(scores4.keys()))\n",
    "print('')\n",
    "print(scores4['test_recall_weighted'])"
   ]
  },
  {
   "cell_type": "markdown",
   "metadata": {},
   "source": [
    "### X-VALIDATION CON ITERADOR ESPECÍFICO, DOS MÉTRICAS y EVALUACIÓN DEL SET DE TRAINING"
   ]
  },
  {
   "cell_type": "code",
   "execution_count": 13,
   "metadata": {},
   "outputs": [
    {
     "name": "stdout",
     "output_type": "stream",
     "text": [
      "['fit_time', 'score_time', 'test_accuracy', 'test_recall_weighted', 'train_accuracy', 'train_recall_weighted']\n",
      "\n",
      "[0.88300221 0.88495575 0.88274336 0.88495575 0.88716814 0.88716814\n",
      " 0.88495575 0.88716814 0.88495575 0.88495575]\n"
     ]
    }
   ],
   "source": [
    "scores5 = cross_validate(clf, X, Y, scoring = scoring, cv = skf, return_train_score = True)\n",
    "\n",
    "print(sorted(scores5.keys()))\n",
    "print()\n",
    "print(scores5['test_recall_weighted'])"
   ]
  },
  {
   "cell_type": "markdown",
   "metadata": {},
   "source": [
    "### PROCESADO CON PIPELINES Y ENTRENAMIENTO CON VALIDACIÓN CRUZADA"
   ]
  },
  {
   "cell_type": "code",
   "execution_count": 14,
   "metadata": {},
   "outputs": [
    {
     "data": {
      "text/plain": [
       "0.8843036109064112"
      ]
     },
     "execution_count": 14,
     "metadata": {},
     "output_type": "execute_result"
    }
   ],
   "source": [
    "X_train, X_test, y_train, y_test = train_test_split(X, Y, test_size = 0.3)\n",
    "\n",
    "clf = make_pipeline(preprocessing.StandardScaler(), svm.SVC(C = 1))\n",
    "clf.fit(X_train, y_train)\n",
    "clf.score(X_test, y_test )"
   ]
  },
  {
   "cell_type": "code",
   "execution_count": 15,
   "metadata": {},
   "outputs": [
    {
     "data": {
      "text/plain": [
       "array([0.88300221, 0.88495575, 0.88495575, 0.88495575, 0.88495575,\n",
       "       0.88495575, 0.88495575, 0.88495575, 0.88495575, 0.88495575])"
      ]
     },
     "execution_count": 15,
     "metadata": {},
     "output_type": "execute_result"
    }
   ],
   "source": [
    "X_train, X_test, y_train, y_test = train_test_split(X, Y, test_size = 0.3)\n",
    "\n",
    "skf = StratifiedKFold(n_splits = 10)\n",
    "\n",
    "clf = make_pipeline(preprocessing.StandardScaler(), svm.SVC(C = 1))\n",
    "cross_val_score(clf, X, Y, cv = skf)"
   ]
  },
  {
   "cell_type": "markdown",
   "metadata": {},
   "source": [
    "# COMPARACIÓN ENTRE DISTINTOS MODELOS"
   ]
  },
  {
   "cell_type": "code",
   "execution_count": 16,
   "metadata": {},
   "outputs": [
    {
     "name": "stderr",
     "output_type": "stream",
     "text": [
      "C:\\Users\\calfo\\Anaconda3\\envs\\env_prueba\\lib\\site-packages\\sklearn\\model_selection\\_split.py:292: FutureWarning: Setting a random_state has no effect since shuffle is False. This will raise an error in 0.24. You should leave random_state to its default (None), or set shuffle=True.\n",
      "  warnings.warn(\n"
     ]
    },
    {
     "name": "stdout",
     "output_type": "stream",
     "text": [
      "LR: 0.884762 (0.014195)\n",
      "LDA: 0.884762 (0.014195)\n"
     ]
    },
    {
     "name": "stderr",
     "output_type": "stream",
     "text": [
      "C:\\Users\\calfo\\Anaconda3\\envs\\env_prueba\\lib\\site-packages\\sklearn\\model_selection\\_split.py:292: FutureWarning: Setting a random_state has no effect since shuffle is False. This will raise an error in 0.24. You should leave random_state to its default (None), or set shuffle=True.\n",
      "  warnings.warn(\n",
      "C:\\Users\\calfo\\Anaconda3\\envs\\env_prueba\\lib\\site-packages\\sklearn\\model_selection\\_split.py:292: FutureWarning: Setting a random_state has no effect since shuffle is False. This will raise an error in 0.24. You should leave random_state to its default (None), or set shuffle=True.\n",
      "  warnings.warn(\n"
     ]
    },
    {
     "name": "stdout",
     "output_type": "stream",
     "text": [
      "KNN: 0.875472 (0.013110)\n",
      "CART: 0.804031 (0.013346)\n",
      "NB: 0.879012 (0.015147)\n"
     ]
    },
    {
     "name": "stderr",
     "output_type": "stream",
     "text": [
      "C:\\Users\\calfo\\Anaconda3\\envs\\env_prueba\\lib\\site-packages\\sklearn\\model_selection\\_split.py:292: FutureWarning: Setting a random_state has no effect since shuffle is False. This will raise an error in 0.24. You should leave random_state to its default (None), or set shuffle=True.\n",
      "  warnings.warn(\n",
      "C:\\Users\\calfo\\Anaconda3\\envs\\env_prueba\\lib\\site-packages\\sklearn\\model_selection\\_split.py:292: FutureWarning: Setting a random_state has no effect since shuffle is False. This will raise an error in 0.24. You should leave random_state to its default (None), or set shuffle=True.\n",
      "  warnings.warn(\n",
      "C:\\Users\\calfo\\Anaconda3\\envs\\env_prueba\\lib\\site-packages\\sklearn\\model_selection\\_split.py:292: FutureWarning: Setting a random_state has no effect since shuffle is False. This will raise an error in 0.24. You should leave random_state to its default (None), or set shuffle=True.\n",
      "  warnings.warn(\n"
     ]
    },
    {
     "name": "stdout",
     "output_type": "stream",
     "text": [
      "SVM: 0.884762 (0.014195)\n"
     ]
    },
    {
     "data": {
      "image/png": "[encoded data removed]",
      "text/plain": [
       "<Figure size 1080x864 with 1 Axes>"
      ]
     },
     "metadata": {
      "needs_background": "light"
     },
     "output_type": "display_data"
    }
   ],
   "source": [
    "X = df_test.iloc[:,range(0,6)]\n",
    "Y = df_test.iloc[:,6]\n",
    "\n",
    "seed = 5\n",
    "\n",
    "models = []\n",
    "models.append(('LR'  , LogisticRegression        ()))\n",
    "models.append(('LDA' , LinearDiscriminantAnalysis()))\n",
    "models.append(('KNN' , KNeighborsClassifier      ()))\n",
    "models.append(('CART', DecisionTreeClassifier    ()))\n",
    "models.append(('NB'  , GaussianNB                ()))\n",
    "models.append(('SVM' , SVC                       ()))\n",
    "\n",
    "results = []\n",
    "names   = []\n",
    "scoring = 'accuracy'\n",
    "\n",
    "for name, model in models:\n",
    "    kfold = model_selection.KFold(n_splits = 10, random_state = seed)\n",
    "    cv_results = model_selection.cross_val_score(model, X, Y, cv = kfold, scoring = scoring)\n",
    "    results.append(cv_results)\n",
    "    names.append(name)\n",
    "    msg = \"%s: %f (%f)\" % (name, cv_results.mean(), cv_results.std())\n",
    "    print(msg)\n",
    "\n",
    "fig = plt.figure()\n",
    "fig.set_size_inches(15, 12)\n",
    "fig.suptitle('Algorithm Comparison')\n",
    "ax = fig.add_subplot(111)\n",
    "plt.boxplot(results)\n",
    "ax.set_xticklabels(names)\n",
    "plt.show()"
   ]
  },
  {
   "cell_type": "code",
   "execution_count": null,
   "metadata": {},
   "outputs": [],
   "source": []
  }
 ],
 "metadata": {
  "kernelspec": {
   "display_name": "Python 3",
   "language": "python",
   "name": "python3"
  },
  "language_info": {
   "codemirror_mode": {
    "name": "ipython",
    "version": 3
   },
   "file_extension": ".py",
   "mimetype": "text/x-python",
   "name": "python",
   "nbconvert_exporter": "python",
   "pygments_lexer": "ipython3",
   "version": "3.8.2"
  }
 },
 "nbformat": 4,
 "nbformat_minor": 4
}
